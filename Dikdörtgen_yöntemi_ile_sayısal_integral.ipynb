{
  "nbformat": 4,
  "nbformat_minor": 0,
  "metadata": {
    "colab": {
      "name": "Dikdörtgen yöntemi ile sayısal integral",
      "provenance": [],
      "authorship_tag": "ABX9TyMb5/grwBlPK3DOhqvBTV8V",
      "include_colab_link": true
    },
    "kernelspec": {
      "name": "python3",
      "display_name": "Python 3"
    }
  },
  "cells": [
    {
      "cell_type": "markdown",
      "metadata": {
        "id": "view-in-github",
        "colab_type": "text"
      },
      "source": [
        "<a href=\"https://colab.research.google.com/github/GulnihalKelkit/Dikd-rtgen-ntegral/blob/master/Dikd%C3%B6rtgen_y%C3%B6ntemi_ile_say%C4%B1sal_integral.ipynb\" target=\"_parent\"><img src=\"https://colab.research.google.com/assets/colab-badge.svg\" alt=\"Open In Colab\"/></a>"
      ]
    },
    {
      "cell_type": "markdown",
      "metadata": {
        "id": "GCGc_-SgvfEI",
        "colab_type": "text"
      },
      "source": [
        "## Sayısal integral alanını hesaplamak için yazdığım kod:"
      ]
    },
    {
      "cell_type": "code",
      "metadata": {
        "id": "GVeeHP9ekzsg",
        "colab_type": "code",
        "colab": {}
      },
      "source": [
        "def Integral(a,b,n):\n",
        "  w=(b-a)/n\n",
        "  h=(a+(n-1))*w\n",
        "  i=1\n",
        "  sum=0\n",
        "  while i<=n:\n",
        "    i+=1\n",
        "    sum+=w*h\n",
        "  print(\"İntegral= \",sum)"
      ],
      "execution_count": 0,
      "outputs": []
    },
    {
      "cell_type": "code",
      "metadata": {
        "id": "fYbgeHO5qvNL",
        "colab_type": "code",
        "colab": {
          "base_uri": "https://localhost:8080/",
          "height": 34
        },
        "outputId": "dfaf8dad-0433-4310-850b-a14a33efee5a"
      },
      "source": [
        "Integral(1,3,100)"
      ],
      "execution_count": 64,
      "outputs": [
        {
          "output_type": "stream",
          "text": [
            "İntegral=  4.000000000000003\n"
          ],
          "name": "stdout"
        }
      ]
    }
  ]
}